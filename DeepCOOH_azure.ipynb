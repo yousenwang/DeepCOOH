{
 "cells": [
  {
   "cell_type": "code",
   "execution_count": 2,
   "metadata": {},
   "outputs": [
    {
     "name": "stderr",
     "output_type": "stream",
     "text": [
      "Using TensorFlow backend.\n"
     ]
    }
   ],
   "source": [
    "from keras.callbacks import ModelCheckpoint\n",
    "from keras.models import Sequential\n",
    "from keras.layers import Dense, Activation, Flatten\n",
    "from sklearn.model_selection import train_test_split\n",
    "from sklearn.ensemble import RandomForestRegressor\n",
    "from sklearn.metrics import mean_absolute_error \n",
    "from matplotlib import pyplot as plt\n",
    "import seaborn as sns\n",
    "import matplotlib.pyplot as plt\n",
    "import pandas as pd\n",
    "import numpy as np\n",
    "import io\n",
    "import requests"
   ]
  },
  {
   "cell_type": "code",
   "execution_count": 3,
   "metadata": {},
   "outputs": [],
   "source": [
    "train_url = \"https://github.com/yousenwang/DeepCOOH/blob/master/labeled_train_data_imputed_KNNImputer(add_indicator-False%20copy-True%20metric-nan_euclidean%20missing_values-nan%20n_neighbors-5%20weights-distance).csv?raw=true\"\n",
    "test_url = \"https://raw.githubusercontent.com/yousenwang/DeepCOOH/master/labeled_test_data_imputed_KNNImputer(add_indicator-False%20copy-True%20metric-nan_euclidean%20missing_values-nan%20n_neighbors-5%20weights-distance).csv\"\n",
    "s1 = requests.get(train_url).content\n",
    "s = requests.get(train_url).content\n"
   ]
  },
  {
   "cell_type": "code",
   "execution_count": 11,
   "metadata": {},
   "outputs": [],
   "source": [
    "train_df = pd.read_csv(io.StringIO(s1.decode(\"big5\")))\n",
    "test_df = pd.read_csv(io.StringIO(s.decode(\"big5\")))"
   ]
  },
  {
   "cell_type": "code",
   "execution_count": 12,
   "metadata": {},
   "outputs": [],
   "source": [
    "target = 'R1COOH'"
   ]
  },
  {
   "cell_type": "code",
   "execution_count": 13,
   "metadata": {},
   "outputs": [],
   "source": [
    "features = [\"SB_PPM\",\n",
    "            \"COA_PPM\",\n",
    "            \"R1_TEMP\",\n",
    "            \"R1_PRESSURE\",\n",
    "            \"R1_REFLUX_RATIO\",\n",
    "            \"R2_TEMP\",\n",
    "            \"R2_LEVEL\",\n",
    "            \"R2_REFLUX_RATIO\",\n",
    "            \"z_Capacity_SUM\",\n",
    "            \"z_Capacity_DIFF\",\n",
    "            \"Z_R1_LEVEL_RT\"]"
   ]
  },
  {
   "cell_type": "code",
   "execution_count": 19,
   "metadata": {},
   "outputs": [
    {
     "name": "stdout",
     "output_type": "stream",
     "text": [
      "(676,) (676, 11)\n"
     ]
    }
   ],
   "source": [
    "train_y = train_df[target]\n",
    "true_y = test_df[target]\n",
    "train = train_df[features]\n",
    "test = test_df[features]\n",
    "print(train_y.shape, train.shape)"
   ]
  },
  {
   "cell_type": "code",
   "execution_count": 65,
   "metadata": {},
   "outputs": [
    {
     "data": {
      "text/html": [
       "<div>\n",
       "<style scoped>\n",
       "    .dataframe tbody tr th:only-of-type {\n",
       "        vertical-align: middle;\n",
       "    }\n",
       "\n",
       "    .dataframe tbody tr th {\n",
       "        vertical-align: top;\n",
       "    }\n",
       "\n",
       "    .dataframe thead th {\n",
       "        text-align: right;\n",
       "    }\n",
       "</style>\n",
       "<table border=\"1\" class=\"dataframe\">\n",
       "  <thead>\n",
       "    <tr style=\"text-align: right;\">\n",
       "      <th></th>\n",
       "      <th>count</th>\n",
       "      <th>mean</th>\n",
       "      <th>std</th>\n",
       "      <th>min</th>\n",
       "      <th>25%</th>\n",
       "      <th>50%</th>\n",
       "      <th>75%</th>\n",
       "      <th>max</th>\n",
       "    </tr>\n",
       "  </thead>\n",
       "  <tbody>\n",
       "    <tr>\n",
       "      <th>SB_PPM</th>\n",
       "      <td>676.0</td>\n",
       "      <td>171.201054</td>\n",
       "      <td>45.131764</td>\n",
       "      <td>12.000000</td>\n",
       "      <td>185.000000</td>\n",
       "      <td>190.000000</td>\n",
       "      <td>190.000000</td>\n",
       "      <td>250.000000</td>\n",
       "    </tr>\n",
       "    <tr>\n",
       "      <th>COA_PPM</th>\n",
       "      <td>676.0</td>\n",
       "      <td>167.028615</td>\n",
       "      <td>195.401709</td>\n",
       "      <td>0.950000</td>\n",
       "      <td>80.000000</td>\n",
       "      <td>90.000000</td>\n",
       "      <td>100.000000</td>\n",
       "      <td>600.000000</td>\n",
       "    </tr>\n",
       "    <tr>\n",
       "      <th>R1_TEMP</th>\n",
       "      <td>676.0</td>\n",
       "      <td>262.576673</td>\n",
       "      <td>2.136377</td>\n",
       "      <td>253.866058</td>\n",
       "      <td>261.091431</td>\n",
       "      <td>263.333435</td>\n",
       "      <td>264.243988</td>\n",
       "      <td>266.666107</td>\n",
       "    </tr>\n",
       "    <tr>\n",
       "      <th>R1_PRESSURE</th>\n",
       "      <td>676.0</td>\n",
       "      <td>0.837329</td>\n",
       "      <td>0.075272</td>\n",
       "      <td>0.640643</td>\n",
       "      <td>0.801507</td>\n",
       "      <td>0.878799</td>\n",
       "      <td>0.881591</td>\n",
       "      <td>0.929711</td>\n",
       "    </tr>\n",
       "    <tr>\n",
       "      <th>R1_REFLUX_RATIO</th>\n",
       "      <td>676.0</td>\n",
       "      <td>4.297937</td>\n",
       "      <td>0.142619</td>\n",
       "      <td>3.800000</td>\n",
       "      <td>4.200000</td>\n",
       "      <td>4.300000</td>\n",
       "      <td>4.400000</td>\n",
       "      <td>4.800000</td>\n",
       "    </tr>\n",
       "    <tr>\n",
       "      <th>R2_TEMP</th>\n",
       "      <td>676.0</td>\n",
       "      <td>264.430920</td>\n",
       "      <td>1.190820</td>\n",
       "      <td>253.427087</td>\n",
       "      <td>263.277292</td>\n",
       "      <td>264.911320</td>\n",
       "      <td>265.176941</td>\n",
       "      <td>268.013222</td>\n",
       "    </tr>\n",
       "    <tr>\n",
       "      <th>R2_LEVEL</th>\n",
       "      <td>676.0</td>\n",
       "      <td>56.397985</td>\n",
       "      <td>3.087364</td>\n",
       "      <td>32.750882</td>\n",
       "      <td>55.155483</td>\n",
       "      <td>57.826050</td>\n",
       "      <td>58.151738</td>\n",
       "      <td>67.161176</td>\n",
       "    </tr>\n",
       "    <tr>\n",
       "      <th>R2_REFLUX_RATIO</th>\n",
       "      <td>676.0</td>\n",
       "      <td>5.528280</td>\n",
       "      <td>3.488647</td>\n",
       "      <td>2.500000</td>\n",
       "      <td>3.700000</td>\n",
       "      <td>3.900000</td>\n",
       "      <td>4.700000</td>\n",
       "      <td>13.500000</td>\n",
       "    </tr>\n",
       "    <tr>\n",
       "      <th>z_Capacity_SUM</th>\n",
       "      <td>676.0</td>\n",
       "      <td>512.487951</td>\n",
       "      <td>81.167738</td>\n",
       "      <td>185.000000</td>\n",
       "      <td>450.000000</td>\n",
       "      <td>564.000000</td>\n",
       "      <td>565.883071</td>\n",
       "      <td>605.000000</td>\n",
       "    </tr>\n",
       "    <tr>\n",
       "      <th>z_Capacity_DIFF</th>\n",
       "      <td>676.0</td>\n",
       "      <td>65.700845</td>\n",
       "      <td>73.266577</td>\n",
       "      <td>2.000000</td>\n",
       "      <td>19.993098</td>\n",
       "      <td>30.660029</td>\n",
       "      <td>78.166061</td>\n",
       "      <td>310.000000</td>\n",
       "    </tr>\n",
       "    <tr>\n",
       "      <th>Z_R1_LEVEL_RT</th>\n",
       "      <td>676.0</td>\n",
       "      <td>168.840594</td>\n",
       "      <td>29.463682</td>\n",
       "      <td>141.546230</td>\n",
       "      <td>149.232067</td>\n",
       "      <td>151.649150</td>\n",
       "      <td>184.758798</td>\n",
       "      <td>445.984200</td>\n",
       "    </tr>\n",
       "  </tbody>\n",
       "</table>\n",
       "</div>"
      ],
      "text/plain": [
       "                 count        mean         std         min         25%  \\\n",
       "SB_PPM           676.0  171.201054   45.131764   12.000000  185.000000   \n",
       "COA_PPM          676.0  167.028615  195.401709    0.950000   80.000000   \n",
       "R1_TEMP          676.0  262.576673    2.136377  253.866058  261.091431   \n",
       "R1_PRESSURE      676.0    0.837329    0.075272    0.640643    0.801507   \n",
       "R1_REFLUX_RATIO  676.0    4.297937    0.142619    3.800000    4.200000   \n",
       "R2_TEMP          676.0  264.430920    1.190820  253.427087  263.277292   \n",
       "R2_LEVEL         676.0   56.397985    3.087364   32.750882   55.155483   \n",
       "R2_REFLUX_RATIO  676.0    5.528280    3.488647    2.500000    3.700000   \n",
       "z_Capacity_SUM   676.0  512.487951   81.167738  185.000000  450.000000   \n",
       "z_Capacity_DIFF  676.0   65.700845   73.266577    2.000000   19.993098   \n",
       "Z_R1_LEVEL_RT    676.0  168.840594   29.463682  141.546230  149.232067   \n",
       "\n",
       "                        50%         75%         max  \n",
       "SB_PPM           190.000000  190.000000  250.000000  \n",
       "COA_PPM           90.000000  100.000000  600.000000  \n",
       "R1_TEMP          263.333435  264.243988  266.666107  \n",
       "R1_PRESSURE        0.878799    0.881591    0.929711  \n",
       "R1_REFLUX_RATIO    4.300000    4.400000    4.800000  \n",
       "R2_TEMP          264.911320  265.176941  268.013222  \n",
       "R2_LEVEL          57.826050   58.151738   67.161176  \n",
       "R2_REFLUX_RATIO    3.900000    4.700000   13.500000  \n",
       "z_Capacity_SUM   564.000000  565.883071  605.000000  \n",
       "z_Capacity_DIFF   30.660029   78.166061  310.000000  \n",
       "Z_R1_LEVEL_RT    151.649150  184.758798  445.984200  "
      ]
     },
     "execution_count": 65,
     "metadata": {},
     "output_type": "execute_result"
    }
   ],
   "source": [
    "train_stats =   train.describe()\n",
    "train_stats = train_stats.transpose()\n",
    "path = f\"./train_stats.csv\"\n",
    "train_stats.to_csv(path, index=True, header=True)\n",
    "train_stats"
   ]
  },
  {
   "cell_type": "code",
   "execution_count": 32,
   "metadata": {},
   "outputs": [],
   "source": [
    "def norm(x, train_stats):\n",
    "  return (x - train_stats['mean'])/train_stats['std']"
   ]
  },
  {
   "cell_type": "code",
   "execution_count": 67,
   "metadata": {},
   "outputs": [
    {
     "data": {
      "text/plain": [
       "(11,)"
      ]
     },
     "execution_count": 67,
     "metadata": {},
     "output_type": "execute_result"
    }
   ],
   "source": [
    "train_stats['std'].shape"
   ]
  },
  {
   "cell_type": "code",
   "execution_count": 33,
   "metadata": {},
   "outputs": [],
   "source": [
    "normed_train_X = norm(train, train_stats)"
   ]
  },
  {
   "cell_type": "code",
   "execution_count": 34,
   "metadata": {},
   "outputs": [],
   "source": [
    "import tensorflow as tf\n",
    "def build_model(p):\n",
    "  model = Sequential([\n",
    "    Dense(64, activation='relu', input_shape=[p]),\n",
    "    Dense(64, activation='relu'),\n",
    "    Dense(1)\n",
    "  ])\n",
    "\n",
    "  optimizer = tf.keras.optimizers.RMSprop(0.001)\n",
    "\n",
    "  model.compile(loss='mse',\n",
    "                optimizer=optimizer,\n",
    "                metrics=['mae', 'mse'])\n",
    "  return model"
   ]
  },
  {
   "cell_type": "code",
   "execution_count": 35,
   "metadata": {},
   "outputs": [],
   "source": [
    "p = normed_train_X.shape[1]\n",
    "model = build_model(p)"
   ]
  },
  {
   "cell_type": "code",
   "execution_count": 36,
   "metadata": {},
   "outputs": [
    {
     "name": "stdout",
     "output_type": "stream",
     "text": [
      "11\n"
     ]
    }
   ],
   "source": [
    "print(p)"
   ]
  },
  {
   "cell_type": "code",
   "execution_count": 37,
   "metadata": {},
   "outputs": [
    {
     "name": "stdout",
     "output_type": "stream",
     "text": [
      "Model: \"sequential_1\"\n",
      "_________________________________________________________________\n",
      "Layer (type)                 Output Shape              Param #   \n",
      "=================================================================\n",
      "dense_1 (Dense)              (None, 64)                768       \n",
      "_________________________________________________________________\n",
      "dense_2 (Dense)              (None, 64)                4160      \n",
      "_________________________________________________________________\n",
      "dense_3 (Dense)              (None, 1)                 65        \n",
      "=================================================================\n",
      "Total params: 4,993\n",
      "Trainable params: 4,993\n",
      "Non-trainable params: 0\n",
      "_________________________________________________________________\n"
     ]
    }
   ],
   "source": [
    "model.summary()"
   ]
  },
  {
   "cell_type": "code",
   "execution_count": 38,
   "metadata": {},
   "outputs": [],
   "source": [
    "import keras\n",
    "class PrintDot(keras.callbacks.Callback):\n",
    "  def on_epoch_end(self, epoch, logs):\n",
    "    if epoch % 100 == 0: \n",
    "      print(f'{epoch}\\n  ')\n",
    "      !nvidia-smi\n",
    "\n",
    "    print('.', end='')"
   ]
  },
  {
   "cell_type": "code",
   "execution_count": 39,
   "metadata": {},
   "outputs": [
    {
     "name": "stdout",
     "output_type": "stream",
     "text": [
      "\n",
      "Epoch: 0, loss:1161103.8880,  mae:1068.4686,  mse:1161103.7500,  val_loss:1229264.2941,  val_mae:1102.0710,  val_mse:1229264.2500,  \n",
      ".0\n",
      "  \n",
      "Wed Apr 15 05:49:25 2020       \n",
      "+-----------------------------------------------------------------------------+\n",
      "| NVIDIA-SMI 440.64.00    Driver Version: 440.64.00    CUDA Version: 10.2     |\n",
      "|-------------------------------+----------------------+----------------------+\n",
      "| GPU  Name        Persistence-M| Bus-Id        Disp.A | Volatile Uncorr. ECC |\n",
      "| Fan  Temp  Perf  Pwr:Usage/Cap|         Memory-Usage | GPU-Util  Compute M. |\n",
      "|===============================+======================+======================|\n",
      "|   0  Tesla M60           On   | 0000C575:00:00.0 Off |                  Off |\n",
      "| N/A   41C    P0    39W / 150W |   7858MiB /  8129MiB |      2%      Default |\n",
      "+-------------------------------+----------------------+----------------------+\n",
      "                                                                               \n",
      "+-----------------------------------------------------------------------------+\n",
      "| Processes:                                                       GPU Memory |\n",
      "|  GPU       PID   Type   Process name                             Usage      |\n",
      "|=============================================================================|\n",
      "|    0      4419      C   /anaconda/envs/azureml_py36/bin/python      7846MiB |\n",
      "+-----------------------------------------------------------------------------+\n",
      ".......................................................................................................................................................................................................\n",
      "Epoch: 100, loss:7565.4410,  mae:61.4269,  mse:7565.4409,  val_loss:18507.5075,  val_mae:89.9446,  val_mse:18507.5078,  \n",
      ".100\n",
      "  \n",
      "Wed Apr 15 05:49:30 2020       \n",
      "+-----------------------------------------------------------------------------+\n",
      "| NVIDIA-SMI 440.64.00    Driver Version: 440.64.00    CUDA Version: 10.2     |\n",
      "|-------------------------------+----------------------+----------------------+\n",
      "| GPU  Name        Persistence-M| Bus-Id        Disp.A | Volatile Uncorr. ECC |\n",
      "| Fan  Temp  Perf  Pwr:Usage/Cap|         Memory-Usage | GPU-Util  Compute M. |\n",
      "|===============================+======================+======================|\n",
      "|   0  Tesla M60           On   | 0000C575:00:00.0 Off |                  Off |\n",
      "| N/A   41C    P0    39W / 150W |   7858MiB /  8129MiB |     30%      Default |\n",
      "+-------------------------------+----------------------+----------------------+\n",
      "                                                                               \n",
      "+-----------------------------------------------------------------------------+\n",
      "| Processes:                                                       GPU Memory |\n",
      "|  GPU       PID   Type   Process name                             Usage      |\n",
      "|=============================================================================|\n",
      "|    0      4419      C   /anaconda/envs/azureml_py36/bin/python      7846MiB |\n",
      "+-----------------------------------------------------------------------------+\n",
      ".......................................................................................................................................................................................................\n",
      "Epoch: 200, loss:4217.7914,  mae:48.0220,  mse:4217.7910,  val_loss:7608.1148,  val_mae:64.3755,  val_mse:7608.1147,  \n",
      ".200\n",
      "  \n",
      "Wed Apr 15 05:49:34 2020       \n",
      "+-----------------------------------------------------------------------------+\n",
      "| NVIDIA-SMI 440.64.00    Driver Version: 440.64.00    CUDA Version: 10.2     |\n",
      "|-------------------------------+----------------------+----------------------+\n",
      "| GPU  Name        Persistence-M| Bus-Id        Disp.A | Volatile Uncorr. ECC |\n",
      "| Fan  Temp  Perf  Pwr:Usage/Cap|         Memory-Usage | GPU-Util  Compute M. |\n",
      "|===============================+======================+======================|\n",
      "|   0  Tesla M60           On   | 0000C575:00:00.0 Off |                  Off |\n",
      "| N/A   41C    P0    39W / 150W |   7858MiB /  8129MiB |     32%      Default |\n",
      "+-------------------------------+----------------------+----------------------+\n",
      "                                                                               \n",
      "+-----------------------------------------------------------------------------+\n",
      "| Processes:                                                       GPU Memory |\n",
      "|  GPU       PID   Type   Process name                             Usage      |\n",
      "|=============================================================================|\n",
      "|    0      4419      C   /anaconda/envs/azureml_py36/bin/python      7846MiB |\n",
      "+-----------------------------------------------------------------------------+\n",
      "............................."
     ]
    }
   ],
   "source": [
    "!pip install -q git+https://github.com/tensorflow/docs\n",
    "import keras\n",
    "import tensorflow_docs as tfdocs\n",
    "from tensorflow_docs.modeling import EpochDots\n",
    "\n",
    "model = build_model(p)\n",
    "\n",
    "# The patience parameter is the amount of epochs to check for improvement\n",
    "early_stop = keras.callbacks.EarlyStopping(monitor='val_loss', patience=10)\n",
    "EPOCHS = 1000\n",
    "early_history = model.fit(normed_train_X, train_y, \n",
    "                    epochs=EPOCHS, validation_split = 0.2, verbose=0, \n",
    "                    callbacks=[early_stop, EpochDots(), PrintDot()])"
   ]
  },
  {
   "cell_type": "code",
   "execution_count": 40,
   "metadata": {},
   "outputs": [],
   "source": [
    "from tensorflow_docs.plots import HistoryPlotter\n",
    "plotter = HistoryPlotter(smoothing_std=2)"
   ]
  },
  {
   "cell_type": "code",
   "execution_count": 41,
   "metadata": {},
   "outputs": [
    {
     "data": {
      "text/plain": [
       "Text(0, 0.5, 'MAE [MPG]')"
      ]
     },
     "execution_count": 41,
     "metadata": {},
     "output_type": "execute_result"
    },
    {
     "data": {
      "image/png": "[encoded data removed]",
      "text/plain": [
       "<Figure size 432x288 with 1 Axes>"
      ]
     },
     "metadata": {
      "needs_background": "light"
     },
     "output_type": "display_data"
    }
   ],
   "source": [
    "plotter.plot({'Early Stopping': early_history}, metric = \"mae\")\n",
    "plt.ylabel('MAE [MPG]')"
   ]
  },
  {
   "cell_type": "code",
   "execution_count": 48,
   "metadata": {},
   "outputs": [
    {
     "data": {
      "text/html": [
       "<div>\n",
       "<style scoped>\n",
       "    .dataframe tbody tr th:only-of-type {\n",
       "        vertical-align: middle;\n",
       "    }\n",
       "\n",
       "    .dataframe tbody tr th {\n",
       "        vertical-align: top;\n",
       "    }\n",
       "\n",
       "    .dataframe thead th {\n",
       "        text-align: right;\n",
       "    }\n",
       "</style>\n",
       "<table border=\"1\" class=\"dataframe\">\n",
       "  <thead>\n",
       "    <tr style=\"text-align: right;\">\n",
       "      <th></th>\n",
       "      <th>count</th>\n",
       "      <th>mean</th>\n",
       "      <th>std</th>\n",
       "      <th>min</th>\n",
       "      <th>25%</th>\n",
       "      <th>50%</th>\n",
       "      <th>75%</th>\n",
       "      <th>max</th>\n",
       "    </tr>\n",
       "  </thead>\n",
       "  <tbody>\n",
       "    <tr>\n",
       "      <th>0</th>\n",
       "      <td>676.0</td>\n",
       "      <td>171.201054</td>\n",
       "      <td>45.131764</td>\n",
       "      <td>12.000000</td>\n",
       "      <td>185.000000</td>\n",
       "      <td>190.000000</td>\n",
       "      <td>190.000000</td>\n",
       "      <td>250.000000</td>\n",
       "    </tr>\n",
       "    <tr>\n",
       "      <th>1</th>\n",
       "      <td>676.0</td>\n",
       "      <td>167.028615</td>\n",
       "      <td>195.401709</td>\n",
       "      <td>0.950000</td>\n",
       "      <td>80.000000</td>\n",
       "      <td>90.000000</td>\n",
       "      <td>100.000000</td>\n",
       "      <td>600.000000</td>\n",
       "    </tr>\n",
       "    <tr>\n",
       "      <th>2</th>\n",
       "      <td>676.0</td>\n",
       "      <td>262.576673</td>\n",
       "      <td>2.136377</td>\n",
       "      <td>253.866058</td>\n",
       "      <td>261.091431</td>\n",
       "      <td>263.333435</td>\n",
       "      <td>264.243988</td>\n",
       "      <td>266.666107</td>\n",
       "    </tr>\n",
       "    <tr>\n",
       "      <th>3</th>\n",
       "      <td>676.0</td>\n",
       "      <td>0.837329</td>\n",
       "      <td>0.075272</td>\n",
       "      <td>0.640643</td>\n",
       "      <td>0.801507</td>\n",
       "      <td>0.878799</td>\n",
       "      <td>0.881591</td>\n",
       "      <td>0.929711</td>\n",
       "    </tr>\n",
       "    <tr>\n",
       "      <th>4</th>\n",
       "      <td>676.0</td>\n",
       "      <td>4.297937</td>\n",
       "      <td>0.142619</td>\n",
       "      <td>3.800000</td>\n",
       "      <td>4.200000</td>\n",
       "      <td>4.300000</td>\n",
       "      <td>4.400000</td>\n",
       "      <td>4.800000</td>\n",
       "    </tr>\n",
       "    <tr>\n",
       "      <th>5</th>\n",
       "      <td>676.0</td>\n",
       "      <td>264.430920</td>\n",
       "      <td>1.190820</td>\n",
       "      <td>253.427087</td>\n",
       "      <td>263.277292</td>\n",
       "      <td>264.911320</td>\n",
       "      <td>265.176941</td>\n",
       "      <td>268.013222</td>\n",
       "    </tr>\n",
       "    <tr>\n",
       "      <th>6</th>\n",
       "      <td>676.0</td>\n",
       "      <td>56.397985</td>\n",
       "      <td>3.087364</td>\n",
       "      <td>32.750882</td>\n",
       "      <td>55.155483</td>\n",
       "      <td>57.826050</td>\n",
       "      <td>58.151738</td>\n",
       "      <td>67.161176</td>\n",
       "    </tr>\n",
       "    <tr>\n",
       "      <th>7</th>\n",
       "      <td>676.0</td>\n",
       "      <td>5.528280</td>\n",
       "      <td>3.488647</td>\n",
       "      <td>2.500000</td>\n",
       "      <td>3.700000</td>\n",
       "      <td>3.900000</td>\n",
       "      <td>4.700000</td>\n",
       "      <td>13.500000</td>\n",
       "    </tr>\n",
       "    <tr>\n",
       "      <th>8</th>\n",
       "      <td>676.0</td>\n",
       "      <td>512.487951</td>\n",
       "      <td>81.167738</td>\n",
       "      <td>185.000000</td>\n",
       "      <td>450.000000</td>\n",
       "      <td>564.000000</td>\n",
       "      <td>565.883071</td>\n",
       "      <td>605.000000</td>\n",
       "    </tr>\n",
       "    <tr>\n",
       "      <th>9</th>\n",
       "      <td>676.0</td>\n",
       "      <td>65.700845</td>\n",
       "      <td>73.266577</td>\n",
       "      <td>2.000000</td>\n",
       "      <td>19.993098</td>\n",
       "      <td>30.660029</td>\n",
       "      <td>78.166061</td>\n",
       "      <td>310.000000</td>\n",
       "    </tr>\n",
       "    <tr>\n",
       "      <th>10</th>\n",
       "      <td>676.0</td>\n",
       "      <td>168.840594</td>\n",
       "      <td>29.463682</td>\n",
       "      <td>141.546230</td>\n",
       "      <td>149.232067</td>\n",
       "      <td>151.649150</td>\n",
       "      <td>184.758797</td>\n",
       "      <td>445.984200</td>\n",
       "    </tr>\n",
       "  </tbody>\n",
       "</table>\n",
       "</div>"
      ],
      "text/plain": [
       "    count        mean         std         min         25%         50%  \\\n",
       "0   676.0  171.201054   45.131764   12.000000  185.000000  190.000000   \n",
       "1   676.0  167.028615  195.401709    0.950000   80.000000   90.000000   \n",
       "2   676.0  262.576673    2.136377  253.866058  261.091431  263.333435   \n",
       "3   676.0    0.837329    0.075272    0.640643    0.801507    0.878799   \n",
       "4   676.0    4.297937    0.142619    3.800000    4.200000    4.300000   \n",
       "5   676.0  264.430920    1.190820  253.427087  263.277292  264.911320   \n",
       "6   676.0   56.397985    3.087364   32.750882   55.155483   57.826050   \n",
       "7   676.0    5.528280    3.488647    2.500000    3.700000    3.900000   \n",
       "8   676.0  512.487951   81.167738  185.000000  450.000000  564.000000   \n",
       "9   676.0   65.700845   73.266577    2.000000   19.993098   30.660029   \n",
       "10  676.0  168.840594   29.463682  141.546230  149.232067  151.649150   \n",
       "\n",
       "           75%         max  \n",
       "0   190.000000  250.000000  \n",
       "1   100.000000  600.000000  \n",
       "2   264.243988  266.666107  \n",
       "3     0.881591    0.929711  \n",
       "4     4.400000    4.800000  \n",
       "5   265.176941  268.013222  \n",
       "6    58.151738   67.161176  \n",
       "7     4.700000   13.500000  \n",
       "8   565.883071  605.000000  \n",
       "9    78.166061  310.000000  \n",
       "10  184.758797  445.984200  "
      ]
     },
     "execution_count": 48,
     "metadata": {},
     "output_type": "execute_result"
    }
   ],
   "source": [
    "train_stats = pd.read_csv(path, encoding = 'big5')\n",
    "train_stats"
   ]
  },
  {
   "cell_type": "code",
   "execution_count": 75,
   "metadata": {},
   "outputs": [],
   "source": [
    "def norm(x, train_stats):\n",
    "    return (x - train_stats['mean'])/train_stats['std']"
   ]
  },
  {
   "cell_type": "code",
   "execution_count": 69,
   "metadata": {},
   "outputs": [
    {
     "data": {
      "text/plain": [
       "SB_PPM              45.131764\n",
       "COA_PPM            195.401709\n",
       "R1_TEMP              2.136377\n",
       "R1_PRESSURE          0.075272\n",
       "R1_REFLUX_RATIO      0.142619\n",
       "R2_TEMP              1.190820\n",
       "R2_LEVEL             3.087364\n",
       "R2_REFLUX_RATIO      3.488647\n",
       "z_Capacity_SUM      81.167738\n",
       "z_Capacity_DIFF     73.266577\n",
       "Z_R1_LEVEL_RT       29.463682\n",
       "Name: std, dtype: float64"
      ]
     },
     "execution_count": 69,
     "metadata": {},
     "output_type": "execute_result"
    }
   ],
   "source": [
    "train_stats['std']"
   ]
  },
  {
   "cell_type": "code",
   "execution_count": 70,
   "metadata": {},
   "outputs": [
    {
     "data": {
      "text/plain": [
       "(11,)"
      ]
     },
     "execution_count": 70,
     "metadata": {},
     "output_type": "execute_result"
    }
   ],
   "source": [
    "train_stats['std'].shape"
   ]
  },
  {
   "cell_type": "code",
   "execution_count": 76,
   "metadata": {},
   "outputs": [],
   "source": [
    "normed_test_X = norm(test, train_stats)"
   ]
  },
  {
   "cell_type": "code",
   "execution_count": 77,
   "metadata": {},
   "outputs": [
    {
     "data": {
      "text/html": [
       "<div>\n",
       "<style scoped>\n",
       "    .dataframe tbody tr th:only-of-type {\n",
       "        vertical-align: middle;\n",
       "    }\n",
       "\n",
       "    .dataframe tbody tr th {\n",
       "        vertical-align: top;\n",
       "    }\n",
       "\n",
       "    .dataframe thead th {\n",
       "        text-align: right;\n",
       "    }\n",
       "</style>\n",
       "<table border=\"1\" class=\"dataframe\">\n",
       "  <thead>\n",
       "    <tr style=\"text-align: right;\">\n",
       "      <th></th>\n",
       "      <th>SB_PPM</th>\n",
       "      <th>COA_PPM</th>\n",
       "      <th>R1_TEMP</th>\n",
       "      <th>R1_PRESSURE</th>\n",
       "      <th>R1_REFLUX_RATIO</th>\n",
       "      <th>R2_TEMP</th>\n",
       "      <th>R2_LEVEL</th>\n",
       "      <th>R2_REFLUX_RATIO</th>\n",
       "      <th>z_Capacity_SUM</th>\n",
       "      <th>z_Capacity_DIFF</th>\n",
       "      <th>Z_R1_LEVEL_RT</th>\n",
       "    </tr>\n",
       "  </thead>\n",
       "  <tbody>\n",
       "    <tr>\n",
       "      <th>0</th>\n",
       "      <td>0.416535</td>\n",
       "      <td>-0.343030</td>\n",
       "      <td>0.718059</td>\n",
       "      <td>0.561265</td>\n",
       "      <td>0.014466</td>\n",
       "      <td>0.964679</td>\n",
       "      <td>0.604796</td>\n",
       "      <td>-0.352079</td>\n",
       "      <td>0.462155</td>\n",
       "      <td>-0.531604</td>\n",
       "      <td>-0.495501</td>\n",
       "    </tr>\n",
       "    <tr>\n",
       "      <th>1</th>\n",
       "      <td>0.416535</td>\n",
       "      <td>-0.343030</td>\n",
       "      <td>0.312658</td>\n",
       "      <td>0.574405</td>\n",
       "      <td>0.014466</td>\n",
       "      <td>0.943367</td>\n",
       "      <td>0.400663</td>\n",
       "      <td>-0.352079</td>\n",
       "      <td>0.462155</td>\n",
       "      <td>-0.543336</td>\n",
       "      <td>-0.470665</td>\n",
       "    </tr>\n",
       "    <tr>\n",
       "      <th>2</th>\n",
       "      <td>0.416535</td>\n",
       "      <td>-0.368618</td>\n",
       "      <td>0.416594</td>\n",
       "      <td>0.570377</td>\n",
       "      <td>0.014466</td>\n",
       "      <td>1.028419</td>\n",
       "      <td>0.326105</td>\n",
       "      <td>-0.352079</td>\n",
       "      <td>0.462155</td>\n",
       "      <td>-0.534121</td>\n",
       "      <td>-0.523581</td>\n",
       "    </tr>\n",
       "    <tr>\n",
       "      <th>3</th>\n",
       "      <td>0.416535</td>\n",
       "      <td>-0.368618</td>\n",
       "      <td>0.302259</td>\n",
       "      <td>0.545782</td>\n",
       "      <td>0.014466</td>\n",
       "      <td>0.855113</td>\n",
       "      <td>0.477210</td>\n",
       "      <td>-0.352079</td>\n",
       "      <td>0.462155</td>\n",
       "      <td>-0.542639</td>\n",
       "      <td>-0.534095</td>\n",
       "    </tr>\n",
       "    <tr>\n",
       "      <th>4</th>\n",
       "      <td>0.416535</td>\n",
       "      <td>-0.368618</td>\n",
       "      <td>0.395810</td>\n",
       "      <td>0.541828</td>\n",
       "      <td>0.014466</td>\n",
       "      <td>1.074712</td>\n",
       "      <td>0.402765</td>\n",
       "      <td>-0.352079</td>\n",
       "      <td>0.462155</td>\n",
       "      <td>-0.528078</td>\n",
       "      <td>-0.502917</td>\n",
       "    </tr>\n",
       "  </tbody>\n",
       "</table>\n",
       "</div>"
      ],
      "text/plain": [
       "     SB_PPM   COA_PPM   R1_TEMP  R1_PRESSURE  R1_REFLUX_RATIO   R2_TEMP  \\\n",
       "0  0.416535 -0.343030  0.718059     0.561265         0.014466  0.964679   \n",
       "1  0.416535 -0.343030  0.312658     0.574405         0.014466  0.943367   \n",
       "2  0.416535 -0.368618  0.416594     0.570377         0.014466  1.028419   \n",
       "3  0.416535 -0.368618  0.302259     0.545782         0.014466  0.855113   \n",
       "4  0.416535 -0.368618  0.395810     0.541828         0.014466  1.074712   \n",
       "\n",
       "   R2_LEVEL  R2_REFLUX_RATIO  z_Capacity_SUM  z_Capacity_DIFF  Z_R1_LEVEL_RT  \n",
       "0  0.604796        -0.352079        0.462155        -0.531604      -0.495501  \n",
       "1  0.400663        -0.352079        0.462155        -0.543336      -0.470665  \n",
       "2  0.326105        -0.352079        0.462155        -0.534121      -0.523581  \n",
       "3  0.477210        -0.352079        0.462155        -0.542639      -0.534095  \n",
       "4  0.402765        -0.352079        0.462155        -0.528078      -0.502917  "
      ]
     },
     "execution_count": 77,
     "metadata": {},
     "output_type": "execute_result"
    }
   ],
   "source": [
    "normed_test_X.head()"
   ]
  },
  {
   "cell_type": "code",
   "execution_count": 85,
   "metadata": {},
   "outputs": [
    {
     "data": {
      "text/plain": [
       "[]"
      ]
     },
     "execution_count": 85,
     "metadata": {},
     "output_type": "execute_result"
    },
    {
     "data": {
      "image/png": "[encoded data removed]",
      "text/plain": [
       "<Figure size 432x288 with 1 Axes>"
      ]
     },
     "metadata": {
      "needs_background": "light"
     },
     "output_type": "display_data"
    }
   ],
   "source": [
    "test_predictions = model.predict(normed_test_X).flatten()\n",
    "\n",
    "a = plt.axes(aspect='equal')\n",
    "plt.scatter(true_y, test_predictions)\n",
    "plt.xlabel('True Values [MPG]')\n",
    "plt.ylabel('Predictions [MPG]')\n",
    "# lims = [0, 50]\n",
    "# plt.xlim(lims)\n",
    "# plt.ylim(lims)\n",
    "# _ = plt.plot(lims, lims)\n",
    "plt.plot()"
   ]
  },
  {
   "cell_type": "code",
   "execution_count": 86,
   "metadata": {},
   "outputs": [
    {
     "data": {
      "image/png": "[encoded data removed]",
      "text/plain": [
       "<Figure size 432x288 with 1 Axes>"
      ]
     },
     "metadata": {
      "needs_background": "light"
     },
     "output_type": "display_data"
    }
   ],
   "source": [
    "error = test_predictions - true_y\n",
    "plt.hist(error, bins = 25)\n",
    "plt.xlabel(\"Prediction Error [MPG]\")\n",
    "_ = plt.ylabel(\"Count\")"
   ]
  },
  {
   "cell_type": "code",
   "execution_count": 87,
   "metadata": {},
   "outputs": [],
   "source": [
    "import matplotlib.pyplot as plt\n",
    "import datetime\n",
    "from sklearn.metrics import r2_score\n",
    "def plot_tuning_graph(y_true, y_pred, final_model, p):\n",
    "    fin_r2 = r2_score(y_true, y_pred)\n",
    "    plt.figure()\n",
    "    n_y = len(y_pred)\n",
    "    y_mean = [y_true.mean() for x in range(n_y)]\n",
    "    xs = [x for x in range(n_y)]\n",
    "    plt.plot(xs,y_true, label = \"True\")\n",
    "    plt.plot(xs,y_pred, label = f\"{final_model.__class__.__name__} {fin_r2}\", linestyle='dashed')\n",
    "    plt.plot(xs,y_mean, label = \"mean\", linestyle='dashed')\n",
    "    plot_title = f'Num of Feats: {p}'\n",
    "    print(plot_title)\n",
    "    print(f\"test r^2 {fin_r2}\")\n",
    "    plt.title(plot_title)\n",
    "    plt.xlabel('test samples')\n",
    "    plt.ylabel('target values')\n",
    "    plt.legend()\n",
    "    produced_time = datetime.datetime.now().strftime(\"%d_%m_%Y_%H_%M_%S\")\n",
    "    #pic_name = f'tune{final_model.__class__.__name__}_p{len(features)}_{produced_time}.jpg'\n",
    "    #plt.savefig(pic_name)\n",
    "    #print(f\"{pic_name} was produced.\")\n",
    "    plt.plot()"
   ]
  },
  {
   "cell_type": "code",
   "execution_count": 88,
   "metadata": {},
   "outputs": [
    {
     "name": "stdout",
     "output_type": "stream",
     "text": [
      "Num of Feats: 11\n",
      "test r^2 0.7414076859225768\n"
     ]
    },
    {
     "data": {
      "image/png": "[encoded data removed]",
      "text/plain": [
       "<Figure size 432x288 with 1 Axes>"
      ]
     },
     "metadata": {
      "needs_background": "light"
     },
     "output_type": "display_data"
    }
   ],
   "source": [
    "plot_tuning_graph(true_y, test_predictions, model, p)"
   ]
  },
  {
   "cell_type": "code",
   "execution_count": 78,
   "metadata": {},
   "outputs": [
    {
     "name": "stdout",
     "output_type": "stream",
     "text": [
      "Num of Feats: 11\n",
      "test r^2 0.7173055969727029\n"
     ]
    },
    {
     "data": {
      "image/png": "[encoded data removed]",
      "text/plain": [
       "<Figure size 432x288 with 1 Axes>"
      ]
     },
     "metadata": {
      "needs_background": "light"
     },
     "output_type": "display_data"
    }
   ],
   "source": [
    "plot_tuning_graph(true_y, test_predictions, model, p)"
   ]
  }
 ],
 "metadata": {
  "kernelspec": {
   "display_name": "Python 3.6 - AzureML",
   "language": "python",
   "name": "python3-azureml"
  },
  "language_info": {
   "codemirror_mode": {
    "name": "ipython",
    "version": 3
   },
   "file_extension": ".py",
   "mimetype": "text/x-python",
   "name": "python",
   "nbconvert_exporter": "python",
   "pygments_lexer": "ipython3",
   "version": "3.6.9"
  }
 },
 "nbformat": 4,
 "nbformat_minor": 2
}
